{
 "cells": [
  {
   "cell_type": "code",
   "execution_count": 72,
   "id": "01a94009",
   "metadata": {},
   "outputs": [],
   "source": [
    "class TreeNode:\n",
    "    def __init__(self,value):\n",
    "        self.value = value\n",
    "        self.left = None\n",
    "        self.right = None"
   ]
  },
  {
   "cell_type": "code",
   "execution_count": 73,
   "id": "cd19517b",
   "metadata": {},
   "outputs": [],
   "source": [
    "def length_of_longest_path(root):\n",
    "    if root is None:\n",
    "        return 0\n",
    "\n",
    "    left_length = length_of_longest_path(root.left)\n",
    "    right_length = length_of_longest_path(root.right)\n",
    "\n",
    "    return max(left_length, right_length) + 1"
   ]
  },
  {
   "cell_type": "code",
   "execution_count": 74,
   "id": "e29383d0",
   "metadata": {},
   "outputs": [],
   "source": [
    "def iddfs(root, max_depth):\n",
    "    for depth in range(max_depth + 1):\n",
    "        result = dls(root, depth)\n",
    "        if result is not None:\n",
    "            return result\n",
    "\n",
    "        print(f\"Depth: {depth}\")\n",
    "        dls(root, depth)\n",
    "\n",
    "def dls(node, depth):\n",
    "    if node is None:\n",
    "        return\n",
    "    if depth == 0:\n",
    "        print(node.value, end=' ')\n",
    "    elif depth > 0:\n",
    "        dls(node.left, depth - 1)\n",
    "        dls(node.right, depth - 1)"
   ]
  },
  {
   "cell_type": "code",
   "execution_count": 75,
   "id": "0f875985",
   "metadata": {},
   "outputs": [
    {
     "name": "stdout",
     "output_type": "stream",
     "text": [
      "1 Depth: 0\n",
      "1 2 3 Depth: 1\n",
      "2 3 4 5 6 7 Depth: 2\n",
      "4 5 6 7 8 9 10 11 12 13 14 15 Depth: 3\n",
      "8 9 10 11 12 13 14 15 "
     ]
    }
   ],
   "source": [
    "root = TreeNode(1)\n",
    "root.left = TreeNode(2)\n",
    "root.right = TreeNode(3)\n",
    "root.left.left = TreeNode(4)\n",
    "root.left.right = TreeNode(5)\n",
    "root.right.left = TreeNode(6)\n",
    "root.right.right = TreeNode(7)\n",
    "root.left.left.left = TreeNode(8)\n",
    "root.left.left.right = TreeNode(9)\n",
    "root.left.right.left = TreeNode(10)\n",
    "root.left.right.right = TreeNode(11)\n",
    "root.right.left.left = TreeNode(12)\n",
    "root.right.left.right = TreeNode(13)\n",
    "root.right.right.left = TreeNode(14)\n",
    "root.right.right.right = TreeNode(15)\n",
    "longest_path_length = length_of_longest_path(root)\n",
    "iddfs(root, longest_path_length-1)"
   ]
  },
  {
   "cell_type": "code",
   "execution_count": null,
   "id": "2306ba47",
   "metadata": {},
   "outputs": [],
   "source": []
  }
 ],
 "metadata": {
  "kernelspec": {
   "display_name": "base",
   "language": "python",
   "name": "python3"
  },
  "language_info": {
   "codemirror_mode": {
    "name": "ipython",
    "version": 3
   },
   "file_extension": ".py",
   "mimetype": "text/x-python",
   "name": "python",
   "nbconvert_exporter": "python",
   "pygments_lexer": "ipython3",
   "version": "3.12.9"
  }
 },
 "nbformat": 4,
 "nbformat_minor": 5
}
