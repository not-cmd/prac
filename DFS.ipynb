{
 "cells": [
  {
   "cell_type": "code",
   "execution_count": 6,
   "id": "578c61ce",
   "metadata": {},
   "outputs": [],
   "source": [
    "class TreeNode:\n",
    "    def __init__(self, value):\n",
    "        self.value = value\n",
    "        self.left = None\n",
    "        self.right = None"
   ]
  },
  {
   "cell_type": "code",
   "execution_count": 12,
   "id": "63139e8b",
   "metadata": {},
   "outputs": [],
   "source": [
    "def DFS(node):\n",
    "    if node is None:\n",
    "        return\n",
    "    print(node.value, end=' ')\n",
    "    DFS(node.left)\n",
    "    DFS(node.right)"
   ]
  },
  {
   "cell_type": "code",
   "execution_count": 8,
   "id": "331d7e4f",
   "metadata": {},
   "outputs": [],
   "source": [
    "root = TreeNode(1)\n",
    "root.left = TreeNode(2)\n",
    "root.right = TreeNode(3)\n",
    "root.left.left = TreeNode(4)\n",
    "root.left.right = TreeNode(5)\n",
    "root.right.left = TreeNode(6)\n",
    "root.right.right = TreeNode(7)\n",
    "root.left.left.left = TreeNode(8)\n",
    "root.left.left.right = TreeNode(9)\n",
    "root.left.right.left = TreeNode(10)\n",
    "root.left.right.right = TreeNode(11)\n",
    "root.right.left.left = TreeNode(12)\n",
    "root.right.left.right = TreeNode(13)\n",
    "root.right.right.left = TreeNode(14)\n",
    "root.right.right.right = TreeNode(15)"
   ]
  },
  {
   "cell_type": "code",
   "execution_count": 13,
   "id": "60aeaa4e",
   "metadata": {},
   "outputs": [
    {
     "name": "stdout",
     "output_type": "stream",
     "text": [
      "Depth-First Search Traversal:\n",
      "1 2 4 8 9 5 10 11 3 6 12 13 7 14 15 "
     ]
    }
   ],
   "source": [
    "print(\"Depth-First Search Traversal:\")\n",
    "DFS(root)\n"
   ]
  },
  {
   "cell_type": "code",
   "execution_count": null,
   "id": "79f14cca",
   "metadata": {},
   "outputs": [],
   "source": []
  }
 ],
 "metadata": {
  "kernelspec": {
   "display_name": "base",
   "language": "python",
   "name": "python3"
  },
  "language_info": {
   "codemirror_mode": {
    "name": "ipython",
    "version": 3
   },
   "file_extension": ".py",
   "mimetype": "text/x-python",
   "name": "python",
   "nbconvert_exporter": "python",
   "pygments_lexer": "ipython3",
   "version": "3.12.9"
  }
 },
 "nbformat": 4,
 "nbformat_minor": 5
}
