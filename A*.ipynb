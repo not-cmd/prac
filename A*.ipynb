{
 "cells": [
  {
   "cell_type": "code",
   "execution_count": 17,
   "id": "d80f614f",
   "metadata": {},
   "outputs": [],
   "source": [
    "import heapq"
   ]
  },
  {
   "cell_type": "code",
   "execution_count": 18,
   "id": "03b7db5e",
   "metadata": {},
   "outputs": [],
   "source": [
    "\n",
    "def a_star_search(graph, start, goal, heuristic):\n",
    "    open_list = []\n",
    "    heapq.heappush(open_list, (heuristic[start], 0, start, [start]))  # (f, g, node, path)\n",
    "    closed_set = set()\n",
    "\n",
    "    while open_list:\n",
    "        f, g, current, path = heapq.heappop(open_list)\n",
    "\n",
    "        if current == goal:\n",
    "            return path, g  # Return path and total cost\n",
    "\n",
    "        if current in closed_set:\n",
    "            continue\n",
    "\n",
    "        closed_set.add(current)\n",
    "\n",
    "        for neighbor, cost in graph.get(current, []):\n",
    "            if neighbor in closed_set:\n",
    "                continue\n",
    "            g_new = g + cost\n",
    "            f_new = g_new + heuristic[neighbor]\n",
    "            heapq.heappush(open_list, (f_new, g_new, neighbor, path + [neighbor]))\n",
    "\n",
    "    return None, float('inf')  # No path found\n"
   ]
  },
  {
   "cell_type": "code",
   "execution_count": 22,
   "id": "826272e6",
   "metadata": {},
   "outputs": [
    {
     "name": "stdout",
     "output_type": "stream",
     "text": [
      "Path: ['S', 'A', 'D', 'F', 'G']\n",
      "Total Cost: 23\n"
     ]
    }
   ],
   "source": [
    "graph = {\n",
    "    'S': [('A', 4), ('B', 10), ('C', 11)],\n",
    "    'A': [('B', 8), ('D', 5)],\n",
    "    'B': [('D', 15)],\n",
    "    'C': [('D', 8), ('E', 20), ('F', 2)],\n",
    "    'D': [('F', 1), ('I', 20), ('H', 16)],\n",
    "    'E': [('G', 19)],\n",
    "    'F': [('G', 13)],\n",
    "    'H': [('J', 2), ('I', 1)],\n",
    "    'I': [('K', 13), ('G', 5), ('J', 5)],\n",
    "    'J': [('K', 7)],\n",
    "    'K': [('G', 16)]\n",
    "}\n",
    "\n",
    "heuristic = {\n",
    "    'S': 7, 'A': 8, 'B': 6, 'C': 5, 'D': 5, 'E': 3, 'F': 3,\n",
    "    'G': 0, 'H': 7, 'I': 4, 'J': 5, 'K': 3\n",
    "}\n",
    "\n",
    "path, cost = a_star_search(graph, 'S', 'G', heuristic)\n",
    "print(\"Path:\", path)\n",
    "print(\"Total Cost:\",cost)"
   ]
  },
  {
   "cell_type": "code",
   "execution_count": null,
   "id": "a1ed6d38",
   "metadata": {},
   "outputs": [],
   "source": []
  }
 ],
 "metadata": {
  "kernelspec": {
   "display_name": "base",
   "language": "python",
   "name": "python3"
  },
  "language_info": {
   "codemirror_mode": {
    "name": "ipython",
    "version": 3
   },
   "file_extension": ".py",
   "mimetype": "text/x-python",
   "name": "python",
   "nbconvert_exporter": "python",
   "pygments_lexer": "ipython3",
   "version": "3.12.9"
  }
 },
 "nbformat": 4,
 "nbformat_minor": 5
}
